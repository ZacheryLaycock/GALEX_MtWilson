{
 "cells": [
  {
   "cell_type": "code",
   "execution_count": 1,
   "metadata": {
    "collapsed": false
   },
   "outputs": [],
   "source": [
    "%matplotlib inline\n",
    "import numpy as np\n",
    "import pandas as pd\n",
    "import matplotlib.pyplot as plt\n",
    "import matplotlib.cm as cm\n",
    "import matplotlib\n",
    "\n",
    "\n",
    "from astropy.io import fits\n",
    "import os\n",
    "\n",
    "\n",
    "from gPhoton import gFind\n",
    "from gPhoton import gAperture\n",
    "from gPhoton import gMap\n",
    "from gPhoton.gphoton_utils import read_lc\n",
    "import datetime\n",
    "\n",
    "matplotlib.rcParams.update({'font.size':18})\n",
    "matplotlib.rcParams.update({'font.family':'serif'})"
   ]
  },
  {
   "cell_type": "code",
   "execution_count": 2,
   "metadata": {
    "collapsed": false
   },
   "outputs": [],
   "source": [
    "file = 'III_159A_catalog.dat'\n",
    "names = ('Star', 'Nobs', 'Smin', 'Smax', 'Smean', 'e_Smean', 'sdS', 'Wmin', 'Wmean', \n",
    "         'Date1', 'Date2', 'SName', 'RAdeg DEdeg', 's', 'Bmag', 'Vmag', 'ASCC', 'HIP')\n",
    "hk = pd.read_table(file, delimiter='|', comment='#', names=names)\n",
    "\n",
    "radec = hk['RAdeg DEdeg'].str.split(' ', expand=True).loc[:,0:1]\n",
    "radec.columns = ['RA', 'Dec']\n",
    "# print(radec)"
   ]
  },
  {
   "cell_type": "code",
   "execution_count": 16,
   "metadata": {
    "collapsed": false
   },
   "outputs": [],
   "source": [
    "# i = 281 # the star w/ 77 visits in GALEX (HD 4174, symbiotic M giant)\n",
    "\n",
    "i = 261 # 74 visits (HD 3765)\n",
    "\n"
   ]
  },
  {
   "cell_type": "code",
   "execution_count": 3,
   "metadata": {
    "collapsed": false
   },
   "outputs": [
    {
     "name": "stdout",
     "output_type": "stream",
     "text": [
      "GJ 3685 a\n"
     ]
    }
   ],
   "source": [
    "# target = hk['Star'][i]\n",
    "# ra = float(radec['RA'][i][1:])\n",
    "# print(ra)\n",
    "# dec = float(radec['Dec'][i][1:])\n",
    "# print(dec)\n",
    "\n",
    "# coordinates found for HD 4174\n",
    "# 11.1549167,  40.6793889 from isrc.\n",
    "\n",
    "\n",
    "# coordinates that I found\n",
    "# ra = 10.2920\n",
    "# dec = 40.2025\n",
    "\n",
    "\n",
    "# found using isrc data, extremely close to what I found\n",
    "# ra = 10.20528789\n",
    "# dec = 40.18717517\n",
    "\n",
    "# new coordinates with procession calculated\n",
    "# ra = 10.25784158\n",
    "# dec = 40.20826933\n",
    "\n",
    "target = \"GJ 3685 a\"\n",
    "ra = 176.92\n",
    "dec = 0.254\n",
    "\n",
    "step_size = 10. # the time resolution\n",
    "img_step_size = 30.\n",
    "img_size = [0.1, 0.1]\n",
    "phot_rad = 0.0045\n",
    "# phot_rad = 0.01\n",
    "ap_in = 0.0060 #changed from .005\n",
    "ap_out = 0.0070 #changed from .006\n",
    "# ap_in = 0.015\n",
    "# ap_out = 0.02\n",
    "\n",
    "\n",
    "\n",
    "# img_step_size = 30.\n",
    "#screen saver\n",
    "\n",
    "print(target)"
   ]
  },
  {
   "cell_type": "code",
   "execution_count": 4,
   "metadata": {
    "collapsed": false
   },
   "outputs": [
    {
     "name": "stdout",
     "output_type": "stream",
     "text": [
      "NUV: 3516.0s (raw) in 6 exposures.\n",
      "762275988.995 762276104.995 116.0\n",
      "765579107.995 765579821.995 714.0\n",
      "765585336.995 765585739.995 403.0\n",
      "766525332.995 766526576.995 1244.0\n",
      "858613178.995 858613287.995 109.0\n",
      "919754986.995 919755916.995 930.0\n"
     ]
    }
   ],
   "source": [
    "exp_data = gFind(band=\"NUV\", skypos=[ra, dec], exponly=True)\n",
    "k = 0;\n",
    "timeArray = []\n",
    "for tstart, tstop in zip(exp_data['NUV']['t0'], exp_data['NUV']['t1']):\n",
    "        \n",
    "        timeArray.append((tstart, tstop))\n",
    "#         print(tstart, tstop, tstop-tstart)\n",
    "        print(timeArray[k][0],timeArray[k][1],timeArray[k][1]-timeArray[k][0])\n",
    "        k = k + 1\n",
    "#         print(len(timeArray))\n",
    "#         if k == 5:\n",
    "#             break\n",
    "        \n",
    "            "
   ]
  },
  {
   "cell_type": "code",
   "execution_count": 5,
   "metadata": {
    "collapsed": false
   },
   "outputs": [
    {
     "data": {
      "text/plain": [
       "array([ 0.        ,  0.10474122,  0.10493874,  0.13474581,  3.05483226,\n",
       "        4.99362627])"
      ]
     },
     "execution_count": 5,
     "metadata": {},
     "output_type": "execute_result"
    }
   ],
   "source": [
    "(exp_data['NUV']['t0'] - exp_data['NUV']['t0'][0]) / (60.*60.*24.*365.)"
   ]
  },
  {
   "cell_type": "code",
   "execution_count": 6,
   "metadata": {
    "collapsed": false,
    "scrolled": true
   },
   "outputs": [
    {
     "name": "stdout",
     "output_type": "stream",
     "text": [
      "2017-05-17 15:51:22.970293\n",
      "Using v1.28.4 of gAperture.\n",
      "Generating a light curve with the following paramters:\n",
      " band:    NUV\n",
      " skypos:  [176.92, 0.254]\n",
      " tranges: [762275988, 762276105]\n",
      " radius:  0.0045\n",
      " annulus: [0.006, 0.007]\n",
      " stepsz:  100\n",
      " csvfile: 2017-05-17_0/data/GJ 3685 a_0_lc.csv\n",
      " verbose: 3\n",
      "2017-05-17 15:51:37.170690 0                                                                                            \n",
      "Using v1.28.4 of gAperture.\n",
      "Generating a light curve with the following paramters:\n",
      " band:    NUV\n",
      " skypos:  [176.92, 0.254]\n",
      " tranges: [765579107, 765579822]\n",
      " radius:  0.0045\n",
      " annulus: [0.006, 0.007]\n",
      " stepsz:  100\n",
      " csvfile: 2017-05-17_0/data/GJ 3685 a_1_lc.csv\n",
      " verbose: 3\n",
      "2017-05-17 15:52:05.733749 1                                                                                            \n",
      "Using v1.28.4 of gAperture.\n",
      "Generating a light curve with the following paramters:\n",
      " band:    NUV\n",
      " skypos:  [176.92, 0.254]\n",
      " tranges: [765585336, 765585740]\n",
      " radius:  0.0045\n",
      " annulus: [0.006, 0.007]\n",
      " stepsz:  100\n",
      " csvfile: 2017-05-17_0/data/GJ 3685 a_2_lc.csv\n",
      " verbose: 3\n",
      "2017-05-17 15:52:25.643581 2                                                                                            \n",
      "Using v1.28.4 of gAperture.\n",
      "Generating a light curve with the following paramters:\n",
      " band:    NUV\n",
      " skypos:  [176.92, 0.254]\n",
      " tranges: [766525332, 766526577]\n",
      " radius:  0.0045\n",
      " annulus: [0.006, 0.007]\n",
      " stepsz:  100\n",
      " csvfile: 2017-05-17_0/data/GJ 3685 a_3_lc.csv\n",
      " verbose: 3\n",
      "2017-05-17 15:54:04.023075 3                                                                                            \n",
      "Using v1.28.4 of gAperture.\n",
      "Generating a light curve with the following paramters:\n",
      " band:    NUV\n",
      " skypos:  [176.92, 0.254]\n",
      " tranges: [858613178, 858613288]\n",
      " radius:  0.0045\n",
      " annulus: [0.006, 0.007]\n",
      " stepsz:  100\n",
      " csvfile: 2017-05-17_0/data/GJ 3685 a_4_lc.csv\n",
      " verbose: 3\n",
      "2017-05-17 15:54:12.753647 4                                                                                            \n",
      "Using v1.28.4 of gAperture.\n",
      "Generating a light curve with the following paramters:\n",
      " band:    NUV\n",
      " skypos:  [176.92, 0.254]\n",
      " tranges: [919754986, 919755917]\n",
      " radius:  0.0045\n",
      " annulus: [0.006, 0.007]\n",
      " stepsz:  100\n",
      " csvfile: 2017-05-17_0/data/GJ 3685 a_5_lc.csv\n",
      " verbose: 3\n",
      "2017-05-17 15:54:53.180532 5                                                                                            \n"
     ]
    }
   ],
   "source": [
    "step_size = 100 # seconds\n",
    "\n",
    "flux = np.zeros(len(exp_data['NUV']['t0']))\n",
    "\n",
    "aVar = True\n",
    "counter = 0\n",
    "\n",
    "currentTime = str(datetime.datetime.now())\n",
    "currentTime = currentTime.split(\" \")\n",
    "currentTime = currentTime[1].split(\":\")\n",
    "currentTime = str(currentTime[0])+\":\"+str(currentTime[1])\n",
    "\n",
    "currentDate = str(datetime.date.today()) + \"_\" + str(counter)\n",
    "while(aVar):\n",
    "    if not os.path.exists(currentDate):\n",
    "        os.makedirs(currentDate)\n",
    "        os.makedirs(currentDate + \"/ds9_Images\")\n",
    "        os.makedirs(currentDate + \"/data\")\n",
    "        aVar = False\n",
    "    else:\n",
    "        counter = counter + 1 \n",
    "        currentDate = str(datetime.date.today()) + \"_\" + str(counter)\n",
    "        avar = True\n",
    "\n",
    "print(datetime.datetime.now())\n",
    "for k in range(len(exp_data['NUV']['t0'])):\n",
    "    photon_events = gAperture(band='NUV', skypos=[ra, dec], stepsz=step_size, radius= phot_rad,\n",
    "                              annulus=[ap_in, ap_out], verbose=3, csvfile=currentDate+\"/data/\"+target+ '_' +str(k)+\"_lc.csv\",\n",
    "                              trange=[int(exp_data['NUV']['t0'][k]), int(exp_data['NUV']['t1'][k])+1], \n",
    "                              overwrite=True)\n",
    "    data = read_lc(currentDate+'/data/'+target+ '_' +str(k)+\"_lc.csv\")\n",
    "    flux[k] = np.median(data['flux_bgsub'])\n",
    "    print(datetime.datetime.now(), k)\n",
    "    \n",
    "    \n",
    "    \n"
   ]
  },
  {
   "cell_type": "code",
   "execution_count": 7,
   "metadata": {
    "collapsed": false
   },
   "outputs": [
    {
     "data": {
      "image/png": "[encoded data removed]",
      "text/plain": [
       "<matplotlib.figure.Figure at 0x11eab9be0>"
      ]
     },
     "metadata": {},
     "output_type": "display_data"
    }
   ],
   "source": [
    "plt.figure(figsize=(9,5))\n",
    "plt.scatter((exp_data['NUV']['t0'] - exp_data['NUV']['t0'][0]) , flux/1e-14,\n",
    "           s=50, alpha=0.5, lw=0, color='k')\n",
    "plt.xlabel('Time (seconds)')\n",
    "plt.ylabel('NUV Flux ($10^{-14}$)')\n",
    "plt.title(target)\n",
    "\n",
    "plt.savefig(currentDate+'/'+target+'_.png', dpi=150, bbox_inches='tight', pad_inches=0.25)\n",
    "plt.savefig(\"Plots/\"+currentDate+\"_\"+currentTime+\"_\"+target+'_.png', dpi=150, bbox_inches='tight', pad_inches=0.25)"
   ]
  },
  {
   "cell_type": "code",
   "execution_count": 17,
   "metadata": {
    "collapsed": false
   },
   "outputs": [
    {
     "data": {
      "text/plain": [
       "[<matplotlib.lines.Line2D at 0x11e155b70>]"
      ]
     },
     "execution_count": 17,
     "metadata": {},
     "output_type": "execute_result"
    },
    {
     "data": {
      "image/png": "[encoded data removed]",
      "text/plain": [
       "<matplotlib.figure.Figure at 0x11ff66eb8>"
      ]
     },
     "metadata": {},
     "output_type": "display_data"
    }
   ],
   "source": [
    "# for k in range(len(exp_data['NUV']['t0'])):\n",
    "k = 3\n",
    "\n",
    "data = read_lc(currentDate+'/data/'+target+ '_' +str(k)+\"_lc.csv\")\n",
    "#     flux[k] = np.median(data['flux_bgsub'])\n",
    "plt.plot(data['t0_data'] - data['t0_data'][0], data['flux_bgsub'])"
   ]
  },
  {
   "cell_type": "code",
   "execution_count": 8,
   "metadata": {
    "collapsed": false
   },
   "outputs": [
    {
     "data": {
      "text/plain": [
       "<matplotlib.text.Text at 0x11ebb1f28>"
      ]
     },
     "execution_count": 8,
     "metadata": {},
     "output_type": "execute_result"
    },
    {
     "data": {
      "image/png": "[encoded data removed]",
      "text/plain": [
       "<matplotlib.figure.Figure at 0x11f74c5f8>"
      ]
     },
     "metadata": {},
     "output_type": "display_data"
    }
   ],
   "source": [
    "#let's explore just around year 6, big scatter\n",
    "plt.figure(figsize=(9,5))\n",
    "plt.scatter((exp_data['NUV']['t0'] - exp_data['NUV']['t0'][0]) / (60.*60.*24.*365.), flux/1e-14,\n",
    "           s=50, alpha=0.5, lw=0, color='k')\n",
    "plt.xlabel('Time (years)')\n",
    "plt.ylabel('NUV Flux ($10^{-14}$)')\n",
    "plt.xlim(5.8,6.2)\n",
    "plt.title(target)\n",
    "\n",
    "# plt.savefig(target+'.png', dpi=150, bbox_inches='tight', pad_inches=0.25)"
   ]
  },
  {
   "cell_type": "code",
   "execution_count": 23,
   "metadata": {
    "collapsed": false
   },
   "outputs": [
    {
     "data": {
      "text/plain": [
       "749646829.995"
      ]
     },
     "execution_count": 23,
     "metadata": {},
     "output_type": "execute_result"
    }
   ],
   "source": [
    "exp_data['NUV']['t0'][0]"
   ]
  },
  {
   "cell_type": "code",
   "execution_count": 11,
   "metadata": {
    "collapsed": false,
    "scrolled": true
   },
   "outputs": [],
   "source": [
    "# lets see if the mean flux for each visit is available? (doubt it...)\n",
    "# would eliminate need for gAperature step for quick-look evolution!\n",
    "# exp_data2 = gFind(band=\"both\", skypos=[ra, dec])"
   ]
  },
  {
   "cell_type": "code",
   "execution_count": 12,
   "metadata": {
    "collapsed": false,
    "scrolled": true
   },
   "outputs": [],
   "source": [
    "# exp_data2\n",
    "# NOPE...."
   ]
  },
  {
   "cell_type": "code",
   "execution_count": 9,
   "metadata": {
    "collapsed": false,
    "scrolled": true
   },
   "outputs": [],
   "source": [
    "\n",
    "for k in range(0,len(timeArray)):  \n",
    "    w = str(k)\n",
    "    gMap(band= \"NUV\", skypos=[ra, dec], stepsz=100 , skyrange=[0.010, 0.010],\n",
    "             cntfile= currentDate+\"/ds9_Images/\"+target+\"_visitNumber_\"+w+\".fits\",\n",
    "             trange=[timeArray[k][0], timeArray[k][1]])\n",
    "#   values I found 10.2920hours, 40.2025degrees\n",
    "#   test with 10.20528789,  40.18717517\n",
    "#   old skypos=[10.3042, 40.1888]\n",
    "#   gMap uses degrees for image size\n",
    "#     if (k ==3):\n",
    "#         break\n",
    "\n"
   ]
  },
  {
   "cell_type": "code",
   "execution_count": null,
   "metadata": {
    "collapsed": false
   },
   "outputs": [],
   "source": [
    "gMap(band='NUV', skypos=[10.3042, 40.1888], skyrange=[0.033, 0.033], cntfile=\"helix_fuv.fits\" )\n"
   ]
  },
  {
   "cell_type": "code",
   "execution_count": null,
   "metadata": {
    "collapsed": false
   },
   "outputs": [],
   "source": [
    "exp_data['NUV']"
   ]
  },
  {
   "cell_type": "code",
   "execution_count": 8,
   "metadata": {
    "collapsed": false
   },
   "outputs": [],
   "source": [
    "\n",
    "gMap(band= \"NUV\", skypos=[10.3042, 40.1888], stepsz=100 , skyrange=[0.05, 0.05],\n",
    "             cntfile= \"gj_3765test93_count_movie.fits\", trange=[749646829, 749647398])"
   ]
  },
  {
   "cell_type": "code",
   "execution_count": null,
   "metadata": {
    "collapsed": true
   },
   "outputs": [],
   "source": []
  }
 ],
 "metadata": {
  "kernelspec": {
   "display_name": "Python 3",
   "language": "python",
   "name": "python3"
  },
  "language_info": {
   "codemirror_mode": {
    "name": "ipython",
    "version": 3
   },
   "file_extension": ".py",
   "mimetype": "text/x-python",
   "name": "python",
   "nbconvert_exporter": "python",
   "pygments_lexer": "ipython3",
   "version": "3.6.0"
  }
 },
 "nbformat": 4,
 "nbformat_minor": 2
}
