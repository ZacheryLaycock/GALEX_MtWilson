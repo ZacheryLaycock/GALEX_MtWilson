{
 "cells": [
  {
   "cell_type": "code",
   "execution_count": 131,
   "metadata": {
    "collapsed": false
   },
   "outputs": [],
   "source": [
    "%matplotlib inline\n",
    "import numpy as np\n",
    "import pandas as pd\n",
    "import matplotlib.pyplot as plt\n",
    "import matplotlib.cm as cm\n",
    "import matplotlib\n",
    "\n",
    "\n",
    "from astropy.io import fits\n",
    "import os\n",
    "\n",
    "\n",
    "from gPhoton import gFind\n",
    "from gPhoton import gAperture\n",
    "from gPhoton import gMap\n",
    "from gPhoton.gphoton_utils import read_lc\n",
    "import datetime\n",
    "\n",
    "matplotlib.rcParams.update({'font.size':18})\n",
    "matplotlib.rcParams.update({'font.family':'serif'})"
   ]
  },
  {
   "cell_type": "code",
   "execution_count": 132,
   "metadata": {
    "collapsed": false
   },
   "outputs": [
    {
     "name": "stdout",
     "output_type": "stream",
     "text": [
      "            RA       Dec\n",
      "0     144.2052  +57.9121\n",
      "1     176.6498  +50.8832\n",
      "2     166.3839  +43.5245\n",
      "3     061.5470  +32.9529\n",
      "4     025.4714  +02.7044\n",
      "5     025.4714  +02.7044\n",
      "6     072.7322  +00.5766\n",
      "7     184.6508  +23.1201\n",
      "8     184.7562  +24.8462\n",
      "9     184.8682  +24.2843\n",
      "10    185.1899  +25.7659\n",
      "11    185.4543  +26.5491\n",
      "12    185.4840  +27.3095\n",
      "13    185.6032  +22.4642\n",
      "14    185.6308  +25.8285\n",
      "15    185.7850  +25.8514\n",
      "16    185.9243  +26.6015\n",
      "17    186.2594  +25.5607\n",
      "18    186.3438  +23.2291\n",
      "19    186.4665  +26.7767\n",
      "20    186.7761  +26.8457\n",
      "21    187.4205  +24.5208\n",
      "22    263.8923  +61.6828\n",
      "23    271.3632  +02.5020\n",
      "24    049.3595  +07.6558\n",
      "25    049.3595  +07.6558\n",
      "26    049.3862  +07.6902\n",
      "27    049.3862  +07.6902\n",
      "28    052.6264  +20.1034\n",
      "29    053.2082  +23.6923\n",
      "...        ...       ...\n",
      "3081  274.0091  +13.9146\n",
      "3082  287.2250  +34.0621\n",
      "3083  287.2250  +34.0621\n",
      "3084  293.1575  +00.5775\n",
      "3085  293.1575  +00.5775\n",
      "3086  295.8551  +10.0893\n",
      "3087  307.8832  +33.7758\n",
      "3088  307.8832  +33.7758\n",
      "3089  321.6770  +03.7373\n",
      "3090  326.1250  +41.5974\n",
      "3091  329.5999  +75.5890\n",
      "3092  329.5999  +75.5890\n",
      "3093  333.0277  +31.5624\n",
      "3094  333.0277  +31.5624\n",
      "3095  336.1902  +22.5513\n",
      "3096  336.6551  +04.3936\n",
      "3097  341.8061  +18.3843\n",
      "3098  342.9716  +31.7543\n",
      "3099  342.9716  +31.7543\n",
      "3100  357.3699  +35.6644\n",
      "3101  357.6154  +30.3532\n",
      "3102  357.6154  +30.3532\n",
      "3103                    \n",
      "3104                    \n",
      "3105                    \n",
      "3106                    \n",
      "3107                    \n",
      "3108                    \n",
      "3109                    \n",
      "3110                    \n",
      "\n",
      "[3111 rows x 2 columns]\n"
     ]
    }
   ],
   "source": [
    "file = 'III_159A_catalog.dat'\n",
    "names = ('Star', 'Nobs', 'Smin', 'Smax', 'Smean', 'e_Smean', 'sdS', 'Wmin', 'Wmean', \n",
    "         'Date1', 'Date2', 'SName', 'RAdeg DEdeg', 's', 'Bmag', 'Vmag', 'ASCC', 'HIP')\n",
    "hk = pd.read_table(file, delimiter='|', comment='#', names=names)\n",
    "\n",
    "radec = hk['RAdeg DEdeg'].str.split(' ', expand=True).loc[:,0:1]\n",
    "radec.columns = ['RA', 'Dec']\n",
    "print(radec)"
   ]
  },
  {
   "cell_type": "code",
   "execution_count": 133,
   "metadata": {
    "collapsed": false
   },
   "outputs": [],
   "source": [
    "# i = 281 # the star w/ 77 visits in GALEX (HD 4174, symbiotic M giant)\n",
    "\n",
    "i = 261 # 74 visits (HD 3765)\n",
    "\n"
   ]
  },
  {
   "cell_type": "code",
   "execution_count": 134,
   "metadata": {
    "collapsed": false
   },
   "outputs": [
    {
     "name": "stdout",
     "output_type": "stream",
     "text": [
      "HD   3765 \n"
     ]
    }
   ],
   "source": [
    "# target = hk['Star'][i]\n",
    "# ra = float(radec['RA'][i][1:])\n",
    "# print(ra)\n",
    "# dec = float(radec['Dec'][i][1:])\n",
    "# print(dec)\n",
    "\n",
    "# coordinates that I found\n",
    "# ra = 10.2920\n",
    "# dec = 40.2025\n",
    "\n",
    "\n",
    "# found using isrc data, extremely close to what I found\n",
    "# ra = 10.20528789\n",
    "# dec = 40.18717517\n",
    "\n",
    "step_size = 10. # the time resolution\n",
    "img_step_size = 30.\n",
    "img_size = [0.1, 0.1]\n",
    "phot_rad = 0.0045\n",
    "# phot_rad = 0.01\n",
    "ap_in = 0.0060 #changed from .005\n",
    "ap_out = 0.0070 #changed from .006\n",
    "# ap_in = 0.015\n",
    "# ap_out = 0.02\n",
    "\n",
    "\n",
    "\n",
    "# img_step_size = 30.\n",
    "#screen saver\n",
    "\n",
    "print(target)"
   ]
  },
  {
   "cell_type": "code",
   "execution_count": null,
   "metadata": {
    "collapsed": false
   },
   "outputs": [],
   "source": [
    "exp_data = gFind(band=\"NUV\", skypos=[ra, dec], exponly=True)\n",
    "k = 0;\n",
    "timeArray = []\n",
    "for tstart, tstop in zip(exp_data['NUV']['t0'], exp_data['NUV']['t1']):\n",
    "        \n",
    "        timeArray.append((tstart, tstop))\n",
    "#         print(tstart, tstop, tstop-tstart)\n",
    "        print(timeArray[k][0],timeArray[k][1],timeArray[k][1]-timeArray[k][0])\n",
    "        k = k + 1\n",
    "#         print(len(timeArray))\n",
    "#         if k == 5:\n",
    "#             break\n",
    "        \n",
    "            "
   ]
  },
  {
   "cell_type": "code",
   "execution_count": null,
   "metadata": {
    "collapsed": false
   },
   "outputs": [],
   "source": [
    "(exp_data['NUV']['t0'] - exp_data['NUV']['t0'][0]) / (60.*60.*24.*365.)"
   ]
  },
  {
   "cell_type": "code",
   "execution_count": null,
   "metadata": {
    "collapsed": false,
    "scrolled": true
   },
   "outputs": [],
   "source": [
    "step_size = 100 # seconds\n",
    "\n",
    "flux = np.zeros(len(exp_data['NUV']['t0']))\n",
    "\n",
    "aVar = True\n",
    "counter = 0\n",
    "\n",
    "currentTime = str(datetime.datetime.now())\n",
    "currentTime = currentTime.split(\" \")\n",
    "currentTime = currentTime[1].split(\":\")\n",
    "currentTime = str(currentTime[0])+\":\"+str(currentTime[1])\n",
    "\n",
    "currentDate = str(datetime.date.today()) + \"_\" + str(counter)\n",
    "while(aVar):\n",
    "    if not os.path.exists(currentDate):\n",
    "        os.makedirs(currentDate)\n",
    "        os.makedirs(currentDate + \"/ds9_Images\")\n",
    "        os.makedirs(currentDate + \"/data\")\n",
    "        aVar = False\n",
    "    else:\n",
    "        counter = counter + 1 \n",
    "        currentDate = str(datetime.date.today()) + \"_\" + str(counter)\n",
    "        avar = True\n",
    "\n",
    "print(datetime.datetime.now())\n",
    "for k in range(len(exp_data['NUV']['t0'])):\n",
    "    photon_events = gAperture(band='NUV', skypos=[ra, dec], stepsz=step_size, radius= phot_rad,\n",
    "                              annulus=[ap_in, ap_out], verbose=3, csvfile=currentDate+\"/data/\"+target+ '_' +str(k)+\"_lc.csv\",\n",
    "                              trange=[int(exp_data['NUV']['t0'][k]), int(exp_data['NUV']['t1'][k])+1], \n",
    "                              overwrite=True)\n",
    "    data = read_lc(currentDate+'/data/'+target+ '_' +str(k)+\"_lc.csv\")\n",
    "    flux[k] = np.median(data['flux_bgsub'])\n",
    "    print(datetime.datetime.now(), k)\n",
    "    \n",
    "    \n",
    "    \n"
   ]
  },
  {
   "cell_type": "code",
   "execution_count": null,
   "metadata": {
    "collapsed": false
   },
   "outputs": [],
   "source": [
    "plt.figure(figsize=(9,5))\n",
    "plt.scatter((exp_data['NUV']['t0'] - exp_data['NUV']['t0'][0]) / (60.*60.*24.*365.), flux/1e-14,\n",
    "           s=50, alpha=0.5, lw=0, color='k')\n",
    "plt.xlabel('Time (years)')\n",
    "plt.ylabel('NUV Flux ($10^{-14}$)')\n",
    "plt.title(target)\n",
    "\n",
    "plt.savefig(currentDate+'/'+target+'_.png', dpi=150, bbox_inches='tight', pad_inches=0.25)\n",
    "plt.savefig(\"Plots/\"+currentDate+\"_\"+currentTime+\"_\"+target+'_.png', dpi=150, bbox_inches='tight', pad_inches=0.25)"
   ]
  },
  {
   "cell_type": "code",
   "execution_count": null,
   "metadata": {
    "collapsed": false
   },
   "outputs": [],
   "source": [
    "#let's explore just around year 6, big scatter\n",
    "plt.figure(figsize=(9,5))\n",
    "plt.scatter((exp_data['NUV']['t0'] - exp_data['NUV']['t0'][0]) / (60.*60.*24.*365.), flux/1e-14,\n",
    "           s=50, alpha=0.5, lw=0, color='k')\n",
    "plt.xlabel('Time (years)')\n",
    "plt.ylabel('NUV Flux ($10^{-14}$)')\n",
    "plt.xlim(5.8,6.2)\n",
    "plt.title(target)\n",
    "\n",
    "# plt.savefig(target+'.png', dpi=150, bbox_inches='tight', pad_inches=0.25)"
   ]
  },
  {
   "cell_type": "code",
   "execution_count": null,
   "metadata": {
    "collapsed": false
   },
   "outputs": [],
   "source": [
    "exp_data['NUV']['t0'][0]"
   ]
  },
  {
   "cell_type": "code",
   "execution_count": 11,
   "metadata": {
    "collapsed": false,
    "scrolled": true
   },
   "outputs": [],
   "source": [
    "# lets see if the mean flux for each visit is available? (doubt it...)\n",
    "# would eliminate need for gAperature step for quick-look evolution!\n",
    "# exp_data2 = gFind(band=\"both\", skypos=[ra, dec])"
   ]
  },
  {
   "cell_type": "code",
   "execution_count": 12,
   "metadata": {
    "collapsed": false,
    "scrolled": true
   },
   "outputs": [],
   "source": [
    "# exp_data2\n",
    "# NOPE...."
   ]
  },
  {
   "cell_type": "code",
   "execution_count": null,
   "metadata": {
    "collapsed": false,
    "scrolled": true
   },
   "outputs": [],
   "source": [
    "\n",
    "for k in range(0,len(timeArray)):  \n",
    "    w = str(k)\n",
    "    gMap(band= \"NUV\", skypos=[10.2920, 40.2025], stepsz=100 , skyrange=[0.010, 0.010],\n",
    "             cntfile= currentDate+\"/ds9_Images/\"+\"HD_3765_visitNumber_\"+w+\".fits\",\n",
    "             trange=[timeArray[k][0], timeArray[k][1]])\n",
    "#   values I found 10.2920hours, 40.2025degrees\n",
    "#   test with 10.20528789,  40.18717517\n",
    "#   old skypos=[10.3042, 40.1888]\n",
    "#   gMap uses degrees for image size\n",
    "#     if (k ==3):\n",
    "#         break\n",
    "\n"
   ]
  },
  {
   "cell_type": "code",
   "execution_count": null,
   "metadata": {
    "collapsed": false
   },
   "outputs": [],
   "source": [
    "gMap(band='NUV', skypos=[10.3042, 40.1888], skyrange=[0.033, 0.033], cntfile=\"helix_fuv.fits\" )\n"
   ]
  },
  {
   "cell_type": "code",
   "execution_count": null,
   "metadata": {
    "collapsed": false
   },
   "outputs": [],
   "source": [
    "exp_data['NUV']"
   ]
  },
  {
   "cell_type": "code",
   "execution_count": 8,
   "metadata": {
    "collapsed": false
   },
   "outputs": [],
   "source": [
    "\n",
    "gMap(band= \"NUV\", skypos=[10.3042, 40.1888], stepsz=100 , skyrange=[0.05, 0.05],\n",
    "             cntfile= \"gj_3765test93_count_movie.fits\", trange=[749646829, 749647398])"
   ]
  },
  {
   "cell_type": "code",
   "execution_count": null,
   "metadata": {
    "collapsed": true
   },
   "outputs": [],
   "source": []
  }
 ],
 "metadata": {
  "kernelspec": {
   "display_name": "Python 3",
   "language": "python",
   "name": "python3"
  },
  "language_info": {
   "codemirror_mode": {
    "name": "ipython",
    "version": 3
   },
   "file_extension": ".py",
   "mimetype": "text/x-python",
   "name": "python",
   "nbconvert_exporter": "python",
   "pygments_lexer": "ipython3",
   "version": "3.6.0"
  }
 },
 "nbformat": 4,
 "nbformat_minor": 2
}
