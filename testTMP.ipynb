{
 "cells": [
  {
   "cell_type": "code",
   "execution_count": 9,
   "metadata": {
    "collapsed": false
   },
   "outputs": [],
   "source": [
    "%matplotlib inline\n",
    "import numpy as np\n",
    "import pandas as pd\n",
    "import matplotlib.pyplot as plt\n",
    "import matplotlib.cm as cm\n",
    "import matplotlib\n",
    "\n",
    "\n",
    "from astropy.io import fits\n",
    "\n",
    "\n",
    "from gPhoton import gFind\n",
    "from gPhoton import gAperture\n",
    "from gPhoton import gMap\n",
    "from gPhoton.gphoton_utils import read_lc\n",
    "import datetime\n",
    "\n",
    "matplotlib.rcParams.update({'font.size':18})\n",
    "matplotlib.rcParams.update({'font.family':'serif'})"
   ]
  },
  {
   "cell_type": "code",
   "execution_count": 2,
   "metadata": {
    "collapsed": true
   },
   "outputs": [],
   "source": [
    "file = 'III_159A_catalog.dat'\n",
    "names = ('Star', 'Nobs', 'Smin', 'Smax', 'Smean', 'e_Smean', 'sdS', 'Wmin', 'Wmean', \n",
    "         'Date1', 'Date2', 'SName', 'RAdeg DEdeg', 's', 'Bmag', 'Vmag', 'ASCC', 'HIP')\n",
    "hk = pd.read_table(file, delimiter='|', comment='#', names=names)\n",
    "\n",
    "radec = hk['RAdeg DEdeg'].str.split(' ', expand=True).loc[:,0:1]\n",
    "radec.columns = ['RA', 'Dec']"
   ]
  },
  {
   "cell_type": "code",
   "execution_count": 3,
   "metadata": {
    "collapsed": true
   },
   "outputs": [],
   "source": [
    "# i = 281 # the star w/ 77 visits in GALEX (HD 4174, symbiotic M giant)\n",
    "\n",
    "i = 261 # 74 visits (HD 3765)"
   ]
  },
  {
   "cell_type": "code",
   "execution_count": 4,
   "metadata": {
    "collapsed": false
   },
   "outputs": [
    {
     "name": "stdout",
     "output_type": "stream",
     "text": [
      "HD   3765 \n"
     ]
    }
   ],
   "source": [
    "target = hk['Star'][i]\n",
    "ra = float(radec['RA'][i][1:])\n",
    "dec = float(radec['Dec'][i][1:])\n",
    "\n",
    "step_size = 10. # the time resolution\n",
    "img_step_size = 30.\n",
    "img_size = [0.1, 0.1]\n",
    "phot_rad = 0.0045\n",
    "ap_in = 0.0050\n",
    "ap_out = 0.0060\n",
    "\n",
    "\n",
    "\n",
    "# img_step_size = 30.\n",
    "#screen saver\n",
    "\n",
    "print(target)"
   ]
  },
  {
   "cell_type": "code",
   "execution_count": 5,
   "metadata": {
    "collapsed": false
   },
   "outputs": [
    {
     "name": "stdout",
     "output_type": "stream",
     "text": [
      "NUV: 114007.0s (raw) in 74 exposures.\n",
      "749646829.995 749647397.995 568.0\n",
      "749651677.995 749653315.995 1638.0\n",
      "750580904.995 750582295.995 1391.0\n",
      "873882164.995 873883767.995 1603.0\n",
      "874213366.995 874214202.995 836.0\n",
      "874231111.995 874232816.995 1705.0\n",
      "874728017.995 874728517.995 500.0\n",
      "903965462.995 903966910.995 1448.0\n",
      "903971379.995 903972827.995 1448.0\n",
      "905592230.995 905593787.995 1557.0\n",
      "905609883.995 905611532.995 1649.0\n",
      "908934612.995 908936285.995 1673.0\n",
      "908993735.995 908995437.995 1702.0\n",
      "934810539.995 934811921.995 1382.0\n",
      "934899261.995 934900698.995 1437.0\n",
      "934988026.995 934989471.995 1445.0\n",
      "935071049.995 935072321.995 1272.0\n",
      "935165455.995 935167000.995 1545.0\n",
      "935248261.995 935249836.995 1575.0\n",
      "935337002.995 935338583.995 1581.0\n",
      "935413860.995 935415492.995 1632.0\n",
      "935508511.995 935510141.995 1630.0\n",
      "935591282.995 935592956.995 1674.0\n",
      "935680017.995 935681679.995 1662.0\n",
      "935762789.995 935764486.995 1697.0\n",
      "935863355.995 935865033.995 1678.0\n",
      "935934301.995 935936007.995 1706.0\n",
      "936028962.995 936030636.995 1674.0\n",
      "936111739.995 936113439.995 1700.0\n",
      "938513440.995 938515110.995 1670.0\n",
      "938602202.995 938603835.995 1633.0\n",
      "938685001.995 938686650.995 1649.0\n",
      "938767827.995 938769467.995 1640.0\n",
      "938850655.995 938852289.995 1634.0\n",
      "938939424.995 938941027.995 1603.0\n",
      "939051808.995 939053434.995 1626.0\n",
      "939140573.995 939142177.995 1604.0\n",
      "939223372.995 939225006.995 1634.0\n",
      "939306216.995 939307832.995 1616.0\n",
      "939389033.995 939390408.995 1375.0\n",
      "939477761.995 939479397.995 1636.0\n",
      "939560545.995 939562218.995 1673.0\n",
      "939726157.995 939727849.995 1692.0\n",
      "939814876.995 939816574.995 1698.0\n",
      "939897678.995 939899382.995 1704.0\n",
      "939980505.995 939982184.995 1679.0\n",
      "940098769.995 940100413.995 1644.0\n",
      "940181573.995 940183268.995 1695.0\n",
      "942317389.995 942319037.995 1648.0\n",
      "942406125.995 942407765.995 1640.0\n",
      "942488898.995 942490577.995 1679.0\n",
      "942583550.995 942585215.995 1665.0\n",
      "942660410.995 942662108.995 1698.0\n",
      "942755041.995 942756743.995 1702.0\n",
      "942837844.995 942839549.995 1705.0\n",
      "942920678.995 942922354.995 1676.0\n",
      "965695500.995 965696888.995 1388.0\n",
      "965760572.995 965761991.995 1419.0\n",
      "965867069.995 965868514.995 1445.0\n",
      "965932105.995 965933607.995 1502.0\n",
      "966038586.995 966040111.995 1525.0\n",
      "966103615.995 966105192.995 1577.0\n",
      "966210062.995 966211677.995 1615.0\n",
      "966275112.995 966276748.995 1636.0\n",
      "966381567.995 966383218.995 1651.0\n",
      "966446605.995 966448280.995 1675.0\n",
      "996666824.995 996668265.995 1441.0\n",
      "996761446.995 996762936.995 1490.0\n",
      "996838320.995 996839850.995 1530.0\n",
      "996932956.995 996934502.995 1546.0\n",
      "997015812.995 997017317.995 1505.0\n",
      "997110323.995 997111953.995 1630.0\n",
      "997187185.995 997188841.995 1656.0\n",
      "1004757734.0 1004757984.0 250.0\n"
     ]
    }
   ],
   "source": [
    "exp_data = gFind(band=\"NUV\", skypos=[ra, dec], exponly=True)\n",
    "k = 0;\n",
    "timeArray = []\n",
    "for tstart, tstop in zip(exp_data['NUV']['t0'], exp_data['NUV']['t1']):\n",
    "        \n",
    "        timeArray.append((tstart, tstop))\n",
    "#         print(tstart, tstop, tstop-tstart)\n",
    "        print(timeArray[k][0],timeArray[k][1],timeArray[k][1]-timeArray[k][0])\n",
    "        k = k + 1\n",
    "#         if k == 5:\n",
    "#             break\n",
    "            "
   ]
  },
  {
   "cell_type": "code",
   "execution_count": 6,
   "metadata": {
    "collapsed": false
   },
   "outputs": [
    {
     "data": {
      "text/plain": [
       "array([  0.00000000e+00,   1.53729072e-04,   2.96193239e-02,\n",
       "         3.93947663e+00,   3.94997898e+00,   3.95054167e+00,\n",
       "         3.96629845e+00,   4.89341175e+00,   4.89359938e+00,\n",
       "         4.94499623e+00,   4.94555600e+00,   5.05098246e+00,\n",
       "         5.05285724e+00,   5.87150273e+00,   5.87431608e+00,\n",
       "         5.87713080e+00,   5.87976344e+00,   5.88275704e+00,\n",
       "         5.88538280e+00,   5.88819676e+00,   5.89063391e+00,\n",
       "         5.89363527e+00,   5.89625993e+00,   5.89907369e+00,\n",
       "         5.90169838e+00,   5.90488730e+00,   5.90713699e+00,\n",
       "         5.91013867e+00,   5.91276351e+00,   5.98892095e+00,\n",
       "         5.99173557e+00,   5.99436111e+00,   5.99698751e+00,\n",
       "         5.99961396e+00,   6.00242881e+00,   6.00599248e+00,\n",
       "         6.00880720e+00,   6.01143274e+00,   6.01405971e+00,\n",
       "         6.01668582e+00,   6.01949937e+00,   6.02212443e+00,\n",
       "         6.02737595e+00,   6.03018921e+00,   6.03281485e+00,\n",
       "         6.03544127e+00,   6.03919140e+00,   6.04181710e+00,\n",
       "         6.10954338e+00,   6.11235718e+00,   6.11498189e+00,\n",
       "         6.11798329e+00,   6.12042050e+00,   6.12342123e+00,\n",
       "         6.12604690e+00,   6.12867355e+00,   6.85085842e+00,\n",
       "         6.85292184e+00,   6.85629883e+00,   6.85836111e+00,\n",
       "         6.86173760e+00,   6.86379966e+00,   6.86717507e+00,\n",
       "         6.86923779e+00,   6.87261346e+00,   6.87467580e+00,\n",
       "         7.83295266e+00,   7.83595310e+00,   7.83839076e+00,\n",
       "         7.84139165e+00,   7.84401899e+00,   7.84701592e+00,\n",
       "         7.84945320e+00,   8.08951370e+00])"
      ]
     },
     "execution_count": 6,
     "metadata": {},
     "output_type": "execute_result"
    }
   ],
   "source": [
    "(exp_data['NUV']['t0'] - exp_data['NUV']['t0'][0]) / (60.*60.*24.*365.)"
   ]
  },
  {
   "cell_type": "code",
   "execution_count": 14,
   "metadata": {
    "collapsed": false,
    "scrolled": true
   },
   "outputs": [
    {
     "ename": "NameError",
     "evalue": "name 'exp_data' is not defined",
     "output_type": "error",
     "traceback": [
      "\u001b[0;31m---------------------------------------------------------------------------\u001b[0m",
      "\u001b[0;31mNameError\u001b[0m                                 Traceback (most recent call last)",
      "\u001b[0;32m<ipython-input-14-0298e22f3648>\u001b[0m in \u001b[0;36m<module>\u001b[0;34m()\u001b[0m\n\u001b[1;32m      1\u001b[0m \u001b[0mstep_size\u001b[0m \u001b[0;34m=\u001b[0m \u001b[0;36m100\u001b[0m \u001b[0;31m# seconds\u001b[0m\u001b[0;34m\u001b[0m\u001b[0m\n\u001b[1;32m      2\u001b[0m \u001b[0;34m\u001b[0m\u001b[0m\n\u001b[0;32m----> 3\u001b[0;31m \u001b[0mflux\u001b[0m \u001b[0;34m=\u001b[0m \u001b[0mnp\u001b[0m\u001b[0;34m.\u001b[0m\u001b[0mzeros\u001b[0m\u001b[0;34m(\u001b[0m\u001b[0mlen\u001b[0m\u001b[0;34m(\u001b[0m\u001b[0mexp_data\u001b[0m\u001b[0;34m[\u001b[0m\u001b[0;34m'NUV'\u001b[0m\u001b[0;34m]\u001b[0m\u001b[0;34m[\u001b[0m\u001b[0;34m't0'\u001b[0m\u001b[0;34m]\u001b[0m\u001b[0;34m)\u001b[0m\u001b[0;34m)\u001b[0m\u001b[0;34m\u001b[0m\u001b[0m\n\u001b[0m\u001b[1;32m      4\u001b[0m \u001b[0mtimeArray\u001b[0m \u001b[0;34m=\u001b[0m \u001b[0;34m[\u001b[0m\u001b[0;34m]\u001b[0m\u001b[0;34m\u001b[0m\u001b[0m\n\u001b[1;32m      5\u001b[0m \u001b[0;34m\u001b[0m\u001b[0m\n",
      "\u001b[0;31mNameError\u001b[0m: name 'exp_data' is not defined"
     ]
    }
   ],
   "source": [
    "step_size = 100 # seconds\n",
    "\n",
    "flux = np.zeros(len(exp_data['NUV']['t0']))\n",
    "timeArray = []\n",
    "\n",
    "print(datetime.datetime.now())\n",
    "for k in range(len(exp_data['NUV']['t0'])):\n",
    "    photon_events = gAperture(band='NUV', skypos=[ra, dec], stepsz=step_size, radius= phot_rad,\n",
    "                              annulus=[ap_in, ap_out], verbose=3, csvfile=target+ '_' +str(k)+\"_lc.csv\",\n",
    "                              trange=[int(exp_data['NUV']['t0'][k]), int(exp_data['NUV']['t1'][k])+1], \n",
    "                              overwrite=True)\n",
    "    data = read_lc(target+ '_' +str(k)+\"_lc.csv\")\n",
    "    flux[k] = np.median(data['flux_bgsub'])\n",
    "    \n",
    "\n",
    "\n",
    "    \n",
    "    print(datetime.datetime.now(), k)\n"
   ]
  },
  {
   "cell_type": "code",
   "execution_count": 8,
   "metadata": {
    "collapsed": false
   },
   "outputs": [
    {
     "data": {
      "image/png": "[encoded data removed]",
      "text/plain": [
       "<matplotlib.figure.Figure at 0x117aca0b8>"
      ]
     },
     "metadata": {},
     "output_type": "display_data"
    }
   ],
   "source": [
    "plt.figure(figsize=(9,5))\n",
    "plt.scatter((exp_data['NUV']['t0'] - exp_data['NUV']['t0'][0]) / (60.*60.*24.*365.), flux/1e-14,\n",
    "           s=50, alpha=0.5, lw=0, color='k')\n",
    "plt.xlabel('Time (years)')\n",
    "plt.ylabel('NUV Flux ($10^{-14}$)')\n",
    "plt.title(target)\n",
    "\n",
    "plt.savefig(target+'.png', dpi=150, bbox_inches='tight', pad_inches=0.25)"
   ]
  },
  {
   "cell_type": "code",
   "execution_count": 9,
   "metadata": {
    "collapsed": false
   },
   "outputs": [
    {
     "data": {
      "text/plain": [
       "<matplotlib.text.Text at 0x114d03e80>"
      ]
     },
     "execution_count": 9,
     "metadata": {},
     "output_type": "execute_result"
    },
    {
     "data": {
      "image/png": "[encoded data removed]",
      "text/plain": [
       "<matplotlib.figure.Figure at 0x117bde9b0>"
      ]
     },
     "metadata": {},
     "output_type": "display_data"
    }
   ],
   "source": [
    "#let's explore just around year 6, big scatter\n",
    "plt.figure(figsize=(9,5))\n",
    "plt.scatter((exp_data['NUV']['t0'] - exp_data['NUV']['t0'][0]) / (60.*60.*24.*365.), flux/1e-14,\n",
    "           s=50, alpha=0.5, lw=0, color='k')\n",
    "plt.xlabel('Time (years)')\n",
    "plt.ylabel('NUV Flux ($10^{-14}$)')\n",
    "plt.xlim(5.8,6.2)\n",
    "plt.title(target)\n",
    "\n",
    "# plt.savefig(target+'.png', dpi=150, bbox_inches='tight', pad_inches=0.25)"
   ]
  },
  {
   "cell_type": "code",
   "execution_count": 10,
   "metadata": {
    "collapsed": false
   },
   "outputs": [
    {
     "data": {
      "text/plain": [
       "749646829.995"
      ]
     },
     "execution_count": 10,
     "metadata": {},
     "output_type": "execute_result"
    }
   ],
   "source": [
    "exp_data['NUV']['t0'][0]"
   ]
  },
  {
   "cell_type": "code",
   "execution_count": 11,
   "metadata": {
    "collapsed": false,
    "scrolled": true
   },
   "outputs": [],
   "source": [
    "# lets see if the mean flux for each visit is available? (doubt it...)\n",
    "# would eliminate need for gAperature step for quick-look evolution!\n",
    "# exp_data2 = gFind(band=\"both\", skypos=[ra, dec])"
   ]
  },
  {
   "cell_type": "code",
   "execution_count": 12,
   "metadata": {
    "collapsed": false,
    "scrolled": true
   },
   "outputs": [],
   "source": [
    "# exp_data2\n",
    "# NOPE...."
   ]
  },
  {
   "cell_type": "code",
   "execution_count": 13,
   "metadata": {
    "collapsed": false
   },
   "outputs": [
    {
     "ename": "IndexError",
     "evalue": "list index out of range",
     "output_type": "error",
     "traceback": [
      "\u001b[0;31m---------------------------------------------------------------------------\u001b[0m",
      "\u001b[0;31mIndexError\u001b[0m                                Traceback (most recent call last)",
      "\u001b[0;32m<ipython-input-13-db919f0dc175>\u001b[0m in \u001b[0;36m<module>\u001b[0;34m()\u001b[0m\n\u001b[1;32m      4\u001b[0m     gMap(band= \"NUV\", skypos=[10.3042, 40.1888], stepsz=100 , skyrange=[0.033, 0.033],\n\u001b[1;32m      5\u001b[0m              \u001b[0mcntfile\u001b[0m\u001b[0;34m=\u001b[0m \u001b[0;34m\"gj_3765_visitNumber_\"\u001b[0m \u001b[0;34m+\u001b[0m \u001b[0mw\u001b[0m \u001b[0;34m+\u001b[0m \u001b[0;34m\"_count_movie.fits\"\u001b[0m\u001b[0;34m,\u001b[0m\u001b[0;34m\u001b[0m\u001b[0m\n\u001b[0;32m----> 6\u001b[0;31m              trange=[timeArray[k][0], timeArray[k][1]])\n\u001b[0m\u001b[1;32m      7\u001b[0m \u001b[0;31m#     fits.append(\u001b[0m\u001b[0;34m\u001b[0m\u001b[0;34m\u001b[0m\u001b[0m\n\u001b[1;32m      8\u001b[0m \u001b[0;31m#         gMap(band= \"NUV\", skypos=[10.3042, 40.1888], stepsz=100 , skyrange=[0.033, 0.033],\u001b[0m\u001b[0;34m\u001b[0m\u001b[0;34m\u001b[0m\u001b[0m\n",
      "\u001b[0;31mIndexError\u001b[0m: list index out of range"
     ]
    }
   ],
   "source": [
    "\n",
    "for k in range(1,len(timeArray)+1):\n",
    "    w = str(k)\n",
    "    gMap(band= \"NUV\", skypos=[10.3042, 40.1888], stepsz=100 , skyrange=[0.033, 0.033],\n",
    "             cntfile= \"gj_3765_visitNumber_\" + w + \"_count_movie.fits\",\n",
    "             trange=[timeArray[k][0], timeArray[k][1]])\n",
    "#     fits.append(\n",
    "#         gMap(band= \"NUV\", skypos=[10.3042, 40.1888], stepsz=100 , skyrange=[0.033, 0.033],\n",
    "#              cntfile= \"gj_3765_visitNumber_\" + w + \"_count_movie.fits\",\n",
    "#              trange=[timeArray[k][0], timeArray[k][1]]), \"visit_\" + w )\n",
    "#     fits.writeto('out.fits')\n",
    "#     if(k == 5):\n",
    "#         break\n",
    "\n",
    "        \n"
   ]
  },
  {
   "cell_type": "code",
   "execution_count": null,
   "metadata": {
    "collapsed": false
   },
   "outputs": [],
   "source": [
    "gMap(band='NUV', skypos=[10.3042, 40.1888], skyrange=[0.033, 0.033], cntfile=\"helix_fuv.fits\" )\n"
   ]
  },
  {
   "cell_type": "code",
   "execution_count": null,
   "metadata": {
    "collapsed": false
   },
   "outputs": [],
   "source": [
    "exp_data['NUV']"
   ]
  },
  {
   "cell_type": "code",
   "execution_count": 8,
   "metadata": {
    "collapsed": false
   },
   "outputs": [],
   "source": [
    "\n",
    "gMap(band= \"NUV\", skypos=[10.3042, 40.1888], stepsz=100 , skyrange=[0.05, 0.05],\n",
    "             cntfile= \"gj_3765test93_count_movie.fits\", trange=[749646829, 749647398])"
   ]
  },
  {
   "cell_type": "code",
   "execution_count": null,
   "metadata": {
    "collapsed": true
   },
   "outputs": [],
   "source": []
  }
 ],
 "metadata": {
  "kernelspec": {
   "display_name": "Python 3",
   "language": "python",
   "name": "python3"
  },
  "language_info": {
   "codemirror_mode": {
    "name": "ipython",
    "version": 3
   },
   "file_extension": ".py",
   "mimetype": "text/x-python",
   "name": "python",
   "nbconvert_exporter": "python",
   "pygments_lexer": "ipython3",
   "version": "3.6.0"
  }
 },
 "nbformat": 4,
 "nbformat_minor": 2
}
