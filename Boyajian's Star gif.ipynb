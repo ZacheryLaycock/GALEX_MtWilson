{
 "cells": [
  {
   "cell_type": "code",
   "execution_count": 39,
   "metadata": {
    "collapsed": false
   },
   "outputs": [],
   "source": [
    "%matplotlib inline\n",
    "import numpy as np\n",
    "import pandas as pd\n",
    "import matplotlib.pyplot as plt\n",
    "import matplotlib.cm as cm\n",
    "import matplotlib\n",
    "\n",
    "from astropy.io import fits\n",
    "from time import sleep\n",
    "from IPython import display\n",
    "from astropy import units as u\n",
    "from astropy.io import fits\n",
    "import os\n",
    "import os.path\n",
    "from astropy.coordinates import SkyCoord\n",
    "from astropy.coordinates import FK5\n",
    "\n",
    "import imageio\n",
    "\n",
    "\n",
    "from gPhoton import gFind\n",
    "from gPhoton import gAperture\n",
    "from gPhoton import gMap\n",
    "from gPhoton.gphoton_utils import read_lc\n",
    "import datetime\n",
    "\n",
    "matplotlib.rcParams.update({'font.size':18})\n",
    "matplotlib.rcParams.update({'font.family':'serif'})"
   ]
  },
  {
   "cell_type": "code",
   "execution_count": 6,
   "metadata": {
    "collapsed": true
   },
   "outputs": [],
   "source": [
    "ra = 301.5644\n",
    "dec = 44.45684\n"
   ]
  },
  {
   "cell_type": "code",
   "execution_count": 7,
   "metadata": {
    "collapsed": false
   },
   "outputs": [
    {
     "name": "stdout",
     "output_type": "stream",
     "text": [
      "NUV: 3311.0s (raw) in 4 exposures.\n"
     ]
    },
    {
     "data": {
      "text/plain": [
       "{'NUV': {'expt': 3311.0,\n",
       "  'nearest_source': {'distance': 6.5512874478239989e-05,\n",
       "   'mag': 16.460850000000001,\n",
       "   'skypos': [301.564352375925, 44.4567839963424]},\n",
       "  't0': array([  9.93336632e+08,   9.93367098e+08,   9.95690522e+08,\n",
       "           9.99270098e+08]),\n",
       "  't1': array([  9.93338307e+08,   9.93367186e+08,   9.95691962e+08,\n",
       "           9.99270206e+08])}}"
      ]
     },
     "execution_count": 7,
     "metadata": {},
     "output_type": "execute_result"
    }
   ],
   "source": [
    "exp_data = gFind(band='NUV', skypos=[ra, dec], exponly=True)\n",
    "\n",
    "exp_data"
   ]
  },
  {
   "cell_type": "code",
   "execution_count": 8,
   "metadata": {
    "collapsed": false
   },
   "outputs": [
    {
     "data": {
      "text/plain": [
       "array([ 0.        ,  0.00096607,  0.07464136,  0.18814897])"
      ]
     },
     "execution_count": 8,
     "metadata": {},
     "output_type": "execute_result"
    }
   ],
   "source": [
    "(exp_data['NUV']['t0'] - exp_data['NUV']['t0'][0]) / (60. * 60. * 24. * 365.)"
   ]
  },
  {
   "cell_type": "code",
   "execution_count": 9,
   "metadata": {
    "collapsed": true
   },
   "outputs": [],
   "source": [
    "step_size = 20. # the time resolution in seconds\n",
    "\n",
    "# img_step_size = 30.\n",
    "# img_size = [0.1, 0.1]\n",
    "phot_rad = 0.0045 # in deg\n",
    "ap_in = 0.0050 # in deg\n",
    "ap_out = 0.0060 # in deg"
   ]
  },
  {
   "cell_type": "code",
   "execution_count": 13,
   "metadata": {
    "collapsed": false
   },
   "outputs": [
    {
     "name": "stdout",
     "output_type": "stream",
     "text": [
      "NUV: 3311.0s (raw) in 4 exposures.\n",
      "993336631.995 993338306.995 1675.0\n",
      "993367097.995 993367185.995 88.0\n",
      "995690521.995 995691961.995 1440.0\n",
      "999270097.995 999270205.995 108.0\n"
     ]
    }
   ],
   "source": [
    "exp_data = gFind(band=\"NUV\", skypos=[ra, dec], exponly=True)\n",
    "k = 0;\n",
    "timeArray = []\n",
    "for tstart, tstop in zip(exp_data['NUV']['t0'], exp_data['NUV']['t1']):\n",
    "        \n",
    "        timeArray.append((tstart, tstop))\n",
    "        print(timeArray[k][0],timeArray[k][1],timeArray[k][1]-timeArray[k][0])\n",
    "        k = k + 1"
   ]
  },
  {
   "cell_type": "code",
   "execution_count": 14,
   "metadata": {
    "collapsed": false
   },
   "outputs": [
    {
     "name": "stdout",
     "output_type": "stream",
     "text": [
      "2017-06-01 17:27:52.063577\n",
      "Using v1.28.4 of gAperture.\n",
      "Generating a light curve with the following paramters:\n",
      " band:    NUV\n",
      " skypos:  [301.5644, 44.45684]\n",
      " tranges: [993336631, 993338307]\n",
      " radius:  0.0045\n",
      " annulus: [0.005, 0.006]\n",
      " stepsz:  20.0\n",
      " csvfile: 2017-06-01_1/data/KIC8462852_0_lc.csv\n",
      " verbose: 3\n",
      "2017-06-01 17:29:15.538701 0                                84]                                                            \n",
      "Using v1.28.4 of gAperture.\n",
      "Generating a light curve with the following paramters:\n",
      " band:    NUV\n",
      " skypos:  [301.5644, 44.45684]\n",
      " tranges: [993367097, 993367186]\n",
      " radius:  0.0045\n",
      " annulus: [0.005, 0.006]\n",
      " stepsz:  20.0\n",
      " csvfile: 2017-06-01_1/data/KIC8462852_1_lc.csv\n",
      " verbose: 3\n",
      "2017-06-01 17:29:29.680115 1                                84]                                                            \n",
      "Using v1.28.4 of gAperture.\n",
      "Generating a light curve with the following paramters:\n",
      " band:    NUV\n",
      " skypos:  [301.5644, 44.45684]\n",
      " tranges: [995690521, 995691962]\n",
      " radius:  0.0045\n",
      " annulus: [0.005, 0.006]\n",
      " stepsz:  20.0\n",
      " csvfile: 2017-06-01_1/data/KIC8462852_2_lc.csv\n",
      " verbose: 3\n",
      "2017-06-01 17:32:34.509822 2                                84]                                                            \n",
      "Using v1.28.4 of gAperture.\n",
      "Generating a light curve with the following paramters:\n",
      " band:    NUV\n",
      " skypos:  [301.5644, 44.45684]\n",
      " tranges: [999270097, 999270206]\n",
      " radius:  0.0045\n",
      " annulus: [0.005, 0.006]\n",
      " stepsz:  20.0\n",
      " csvfile: 2017-06-01_1/data/KIC8462852_3_lc.csv\n",
      " verbose: 3\n",
      "2017-06-01 17:32:53.732421 3                                84]                                                            \n"
     ]
    }
   ],
   "source": [
    "target = 'KIC8462852'\n",
    "\n",
    "flux = np.zeros(len(exp_data['NUV']['t0']))\n",
    "\n",
    "aVar = True\n",
    "counter = 0\n",
    "\n",
    "currentTime = str(datetime.datetime.now())\n",
    "currentTime = currentTime.split(\" \")\n",
    "currentTime = currentTime[1].split(\":\")\n",
    "currentTime = str(currentTime[0])+\":\"+str(currentTime[1])\n",
    "\n",
    "currentDate = str(datetime.date.today()) + \"_\" + str(counter)\n",
    "while(aVar):\n",
    "    if not os.path.exists(currentDate):\n",
    "        os.makedirs(currentDate)\n",
    "        os.makedirs(currentDate + \"/ds9_Images\")\n",
    "        os.makedirs(currentDate + \"/data\")\n",
    "#         os.makedirs(currentDate + \"/Lightcurves\")\n",
    "        aVar = False\n",
    "    else:\n",
    "        counter = counter + 1 \n",
    "        currentDate = str(datetime.date.today()) + \"_\" + str(counter)\n",
    "        avar = True\n",
    "\n",
    "print(datetime.datetime.now())\n",
    "for k in range(len(exp_data['NUV']['t0'])):\n",
    "    photon_events = gAperture(band='NUV', skypos=[ra, dec], stepsz=step_size, radius= phot_rad,\n",
    "                              annulus=[ap_in, ap_out], verbose=3, csvfile=currentDate+\"/data/\"+target+ '_' +str(k)+\"_lc.csv\",\n",
    "                              trange=[int(exp_data['NUV']['t0'][k]), int(exp_data['NUV']['t1'][k])+1], \n",
    "                              overwrite=True)\n",
    "    data = read_lc(currentDate+'/data/'+target+ '_' +str(k)+\"_lc.csv\")\n",
    "    flux[k] = np.median(data['flux_bgsub'])\n",
    "    print(datetime.datetime.now(), k)"
   ]
  },
  {
   "cell_type": "code",
   "execution_count": 30,
   "metadata": {
    "collapsed": false
   },
   "outputs": [],
   "source": [
    "for k in range(0,len(timeArray)):  \n",
    "    w = str(k)\n",
    "    gMap(band= \"NUV\", skypos=[ra, dec], stepsz=1 , skyrange=[0.010, 0.010],\n",
    "             cntfile= currentDate+\"/ds9_Images/\"+\"Boyajian_Star_visitNumber(step_size=01)_\"+w+\".fits\",\n",
    "             trange=[timeArray[k][0], timeArray[k][1]])"
   ]
  },
  {
   "cell_type": "code",
   "execution_count": 36,
   "metadata": {
    "collapsed": false
   },
   "outputs": [
    {
     "data": {
      "image/png": "[encoded data removed]",
      "text/plain": [
       "<matplotlib.figure.Figure at 0x11f6fd470>"
      ]
     },
     "metadata": {},
     "output_type": "display_data"
    }
   ],
   "source": [
    "file1 = \"2017-06-01_1/ds9_Images/Boyajian_Star_visitNumber(step_size=10)_\" #as an example\n",
    "file = file1 + \"0.fits\"\n",
    "hdulist = fits.open(file)\n",
    "hdulist.info()\n",
    "hdulist[0].header\n",
    "c_x = hdulist[0].header['CRPIX1']\n",
    "c_y = hdulist[0].header['CRPIX2']\n",
    "ra = hdulist[0].header['CRVAL1']\n",
    "dec = hdulist[0].header['CRVAL2']\n",
    "\n",
    "k = 0\n",
    "while(os.path.exists(file)):\n",
    "# for k in range(0,74):\n",
    "    w = str(k);\n",
    "    k = k + 1\n",
    "    file = file1 + w + \".fits\"\n",
    "    if(not os.path.exists(file)):\n",
    "        break\n",
    "    hdulist = fits.open(file)\n",
    "    cube = hdulist[0].data\n",
    "    for b in range(0,len(cube)):\n",
    "        plt.title(\"visit# \" + w)\n",
    "        plt.imshow(cube[b,:,:], origin='lower')\n",
    "        x = 3*np.cos(np.arange(0,2*np.pi,.001)) + c_x\n",
    "        y = 3*np.sin(np.arange(0,2*np.pi,.001)) + c_y\n",
    "        plt.plot(x,y,c='red')\n",
    "        plt.annotate(\"RA =\" + str(ra) + \"\\n\" + \"DEC = \" + str(dec), xy = (0, 20), size = \"xx-small\", color = 'r')\n",
    "        plt.show()\n",
    "        display.clear_output(wait=True)\n",
    "        sleep(.01)"
   ]
  },
  {
   "cell_type": "code",
   "execution_count": 43,
   "metadata": {
    "collapsed": false
   },
   "outputs": [
    {
     "name": "stdout",
     "output_type": "stream",
     "text": [
      "Filename: 2017-06-01_1/ds9_Images/Boyajian_Star_visitNumber(step_size=10)_0.fits\n",
      "No.    Name         Type      Cards   Dimensions   Format\n",
      "  0  PRIMARY     PrimaryHDU      22   (17, 24, 50)   float64   \n"
     ]
    },
    {
     "data": {
      "image/png": "[encoded data removed]",
      "text/plain": [
       "<matplotlib.figure.Figure at 0x11ef5de48>"
      ]
     },
     "metadata": {},
     "output_type": "display_data"
    }
   ],
   "source": [
    "file1 = \"2017-06-01_1/ds9_Images/Boyajian_Star_visitNumber(step_size=01)_\" #as an example\n",
    "file = file1 + \"0.fits\"\n",
    "hdulist = fits.open(file)\n",
    "hdulist.info()\n",
    "hdulist[0].header\n",
    "c_x = hdulist[0].header['CRPIX1']\n",
    "c_y = hdulist[0].header['CRPIX2']\n",
    "ra = hdulist[0].header['CRVAL1']\n",
    "dec = hdulist[0].header['CRVAL2']\n",
    "\n",
    "k = 0\n",
    "imageArray = []\n",
    "while(os.path.exists(file)):\n",
    "# for k in range(0,74):\n",
    "    w = str(k);\n",
    "    k = k + 1\n",
    "    file = file1 + w + \".fits\"\n",
    "    if( not os.path.exists(file)):\n",
    "        break\n",
    "    hdulist = fits.open(file)\n",
    "    cube = hdulist[0].data\n",
    "    for b in range(0,len(cube)):\n",
    "        plt.title(\"visit# \" + w)\n",
    "        plt.imshow(cube[b,:,:], origin='lower')\n",
    "        x = 3*np.cos(np.arange(0,2*np.pi,.001)) + c_x\n",
    "        y = 3*np.sin(np.arange(0,2*np.pi,.001)) + c_y\n",
    "        plt.plot(x,y,c='red')\n",
    "        plt.annotate(\"RA =\" + str(ra) + \"\\n\" + \"DEC = \" + str(dec), xy = (0, 20), size = \"xx-small\", color = 'r')\n",
    "        \n",
    "        name = \"2017-06-01_1/gif/images/image\"+str(b)+\"_\"+str(k-1)+\".png\"\n",
    "        plt.savefig(name)\n",
    "        imageArray.append(imageio.imread(name))\n",
    "        imageio.mimsave(\"2017-06-01_1/gif/01_seconds.gif\",imageArray)"
   ]
  },
  {
   "cell_type": "code",
   "execution_count": null,
   "metadata": {
    "collapsed": true
   },
   "outputs": [],
   "source": []
  }
 ],
 "metadata": {
  "kernelspec": {
   "display_name": "Python 3",
   "language": "python",
   "name": "python3"
  },
  "language_info": {
   "codemirror_mode": {
    "name": "ipython",
    "version": 3
   },
   "file_extension": ".py",
   "mimetype": "text/x-python",
   "name": "python",
   "nbconvert_exporter": "python",
   "pygments_lexer": "ipython3",
   "version": "3.6.0"
  }
 },
 "nbformat": 4,
 "nbformat_minor": 2
}
