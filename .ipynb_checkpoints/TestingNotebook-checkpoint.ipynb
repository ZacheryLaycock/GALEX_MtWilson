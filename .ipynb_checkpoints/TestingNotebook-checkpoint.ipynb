{
 "cells": [
  {
   "cell_type": "code",
   "execution_count": 52,
   "metadata": {
    "collapsed": false
   },
   "outputs": [],
   "source": [
    "%matplotlib inline\n",
    "import numpy as np\n",
    "import pandas as pd\n",
    "import matplotlib.pyplot as plt\n",
    "import matplotlib.cm as cm\n",
    "import matplotlib\n",
    "import os\n",
    "\n",
    "from astropy.io import fits\n",
    "from time import sleep\n",
    "from IPython import display\n",
    "\n",
    "\n",
    "\n",
    "from gPhoton import gFind\n",
    "from gPhoton import gAperture\n",
    "from gPhoton import gMap\n",
    "from gPhoton.gphoton_utils import read_lc\n",
    "import datetime\n",
    "\n",
    "matplotlib.rcParams.update({'font.size':18})\n",
    "matplotlib.rcParams.update({'font.family':\"serif\"})\n"
   ]
  },
  {
   "cell_type": "code",
   "execution_count": 27,
   "metadata": {
    "collapsed": false
   },
   "outputs": [],
   "source": [
    "file = \"April_28_fits_Data/gj_3765_visitNumber_0_Apr27__movie.fits\" #as an example\n",
    "hdulist = fits.open(file)"
   ]
  },
  {
   "cell_type": "code",
   "execution_count": 33,
   "metadata": {
    "collapsed": false
   },
   "outputs": [
    {
     "name": "stdout",
     "output_type": "stream",
     "text": [
      "Filename: April_28_fits_Data/gj_3765_visitNumber_0_Apr27__movie.fits\n",
      "No.    Name         Type      Cards   Dimensions   Format\n",
      "  0  PRIMARY     PrimaryHDU      22   (16, 21, 6)   float64   \n"
     ]
    },
    {
     "data": {
      "text/plain": [
       "SIMPLE  =                    T / conforms to FITS standard                      \n",
       "BITPIX  =                  -64 / array data type                                \n",
       "NAXIS   =                    3 / number of array dimensions                     \n",
       "NAXIS1  =                   16                                                  \n",
       "NAXIS2  =                   21                                                  \n",
       "NAXIS3  =                    6                                                  \n",
       "EXTEND  =                    T                                                  \n",
       "CDELT1  = -0.00041666666666666                                                  \n",
       "CDELT2  = 0.000416666666666667                                                  \n",
       "CTYPE1  = 'RA---TAN'                                                            \n",
       "CTYPE2  = 'DEC--TAN'                                                            \n",
       "CRPIX1  =                  8.5                                                  \n",
       "CRPIX2  =                 11.0                                                  \n",
       "CRVAL1  =               10.292                                                  \n",
       "CRVAL2  =              40.2025                                                  \n",
       "EQUINOX =               2000.0                                                  \n",
       "EPOCH   =               2000.0                                                  \n",
       "BAND    =                    1                                                  \n",
       "VERSION = 'v1.28.4 '                                                            \n",
       "EXPSTART=        749646829.995                                                  \n",
       "EXPEND  =        749647397.995                                                  \n",
       "EXPTIME =                568.0                                                  "
      ]
     },
     "execution_count": 33,
     "metadata": {},
     "output_type": "execute_result"
    }
   ],
   "source": [
    "hdulist.info()\n",
    "hdulist[0].header"
   ]
  },
  {
   "cell_type": "code",
   "execution_count": 44,
   "metadata": {
    "collapsed": false
   },
   "outputs": [
    {
     "data": {
      "text/plain": [
       "23.99999999999998"
      ]
     },
     "execution_count": 44,
     "metadata": {},
     "output_type": "execute_result"
    }
   ],
   "source": [
    "c_x = hdulist[0].header['CRPIX1']\n",
    "c_y = hdulist[0].header['CRPIX2']\n",
    "rad = 0.01 # deg\n",
    "\n",
    "c_rad = rad / hdulist[0].header['CDELT2']\n",
    "c_rad"
   ]
  },
  {
   "cell_type": "code",
   "execution_count": 31,
   "metadata": {
    "collapsed": false
   },
   "outputs": [
    {
     "ename": "AttributeError",
     "evalue": "'numpy.ndarray' object has no attribute 'header'",
     "output_type": "error",
     "traceback": [
      "\u001b[0;31m---------------------------------------------------------------------------\u001b[0m",
      "\u001b[0;31mAttributeError\u001b[0m                            Traceback (most recent call last)",
      "\u001b[0;32m<ipython-input-31-0885bfba5542>\u001b[0m in \u001b[0;36m<module>\u001b[0;34m()\u001b[0m\n\u001b[1;32m      1\u001b[0m \u001b[0mcube\u001b[0m \u001b[0;34m=\u001b[0m \u001b[0mhdulist\u001b[0m\u001b[0;34m[\u001b[0m\u001b[0;36m0\u001b[0m\u001b[0;34m]\u001b[0m\u001b[0;34m.\u001b[0m\u001b[0mdata\u001b[0m\u001b[0;34m\u001b[0m\u001b[0m\n\u001b[0;32m----> 2\u001b[0;31m \u001b[0mcube\u001b[0m\u001b[0;34m.\u001b[0m\u001b[0mheader\u001b[0m\u001b[0;34m\u001b[0m\u001b[0m\n\u001b[0m",
      "\u001b[0;31mAttributeError\u001b[0m: 'numpy.ndarray' object has no attribute 'header'"
     ]
    }
   ],
   "source": [
    "cube = hdulist[0].data\n",
    "cube.header"
   ]
  },
  {
   "cell_type": "code",
   "execution_count": 9,
   "metadata": {
    "collapsed": false
   },
   "outputs": [
    {
     "data": {
      "text/plain": [
       "(6, 21, 16)"
      ]
     },
     "execution_count": 9,
     "metadata": {},
     "output_type": "execute_result"
    }
   ],
   "source": [
    "cube.shape"
   ]
  },
  {
   "cell_type": "code",
   "execution_count": 42,
   "metadata": {
    "collapsed": false
   },
   "outputs": [
    {
     "data": {
      "image/png": "[encoded data removed]",
      "text/plain": [
       "<matplotlib.figure.Figure at 0x115805470>"
      ]
     },
     "metadata": {},
     "output_type": "display_data"
    }
   ],
   "source": [
    "# print (len(cube))\n",
    "for b in range(0,len(cube)):\n",
    "    \n",
    "    plt.imshow(cube[b,:,:], origin='lower')\n",
    "    x = 3*np.cos(np.arange(0,2*np.pi,.001)) + 8\n",
    "    y = 3*np.sin(np.arange(0,2*np.pi,.001)) + 10.5\n",
    "    plt.plot(x,y,c='red')\n",
    "    plt.show()\n",
    "    display.clear_output(wait=True)\n",
    "    sleep(1)\n",
    "\n",
    "\n",
    "\n",
    "# plt.plot(cube[0,17,:])"
   ]
  },
  {
   "cell_type": "code",
   "execution_count": 22,
   "metadata": {
    "collapsed": false
   },
   "outputs": [
    {
     "data": {
      "image/png": "[encoded data removed]",
      "text/plain": [
       "<matplotlib.figure.Figure at 0x108446ac8>"
      ]
     },
     "metadata": {},
     "output_type": "display_data"
    }
   ],
   "source": [
    "for k in range(0,74):\n",
    "    w = str(k);\n",
    "    file = \"April_28_fits_Data/gj_3765_visitNumber_\" + w + \"_Apr27__movie.fits\"\n",
    "    hdulist = fits.open(file)\n",
    "    cube = hdulist[0].data\n",
    "    for b in range(0,len(cube)):\n",
    "        plt.title(\"visit# \" + w)\n",
    "        plt.imshow(cube[b,:,:], origin='lower')\n",
    "        x = 3*np.cos(np.arange(0,2*np.pi,.001)) + 8\n",
    "        y = 3*np.sin(np.arange(0,2*np.pi,.001)) + 11\n",
    "        plt.plot(x,y,c='red')\n",
    "        plt.show()\n",
    "        display.clear_output(wait=True)\n",
    "        sleep(.1)\n",
    "    "
   ]
  },
  {
   "cell_type": "code",
   "execution_count": 60,
   "metadata": {
    "collapsed": false
   },
   "outputs": [],
   "source": [
    "\n",
    "\n",
    "\n",
    "aVar = True\n",
    "counter = 0\n",
    "currentDate = str(datetime.date.today()) + \"_\" + str(counter)\n",
    "while(aVar):\n",
    "    if not os.path.exists(currentDate):\n",
    "        os.makedirs(currentDate)\n",
    "        os.makedirs(currentDate + \"/ds9_Images\")\n",
    "        os.makedirs(currentDate + \"/data\")\n",
    "        aVar = False\n",
    "    else:\n",
    "        counter = counter + 1 \n",
    "        currentDate = str(datetime.date.today()) + \"_\" + str(counter)\n",
    "        avar = True"
   ]
  },
  {
   "cell_type": "code",
   "execution_count": null,
   "metadata": {
    "collapsed": true
   },
   "outputs": [],
   "source": []
  }
 ],
 "metadata": {
  "kernelspec": {
   "display_name": "Python 3",
   "language": "python",
   "name": "python3"
  },
  "language_info": {
   "codemirror_mode": {
    "name": "ipython",
    "version": 3
   },
   "file_extension": ".py",
   "mimetype": "text/x-python",
   "name": "python",
   "nbconvert_exporter": "python",
   "pygments_lexer": "ipython3",
   "version": "3.6.0"
  }
 },
 "nbformat": 4,
 "nbformat_minor": 2
}
